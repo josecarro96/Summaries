{
 "cells": [
  {
   "cell_type": "markdown",
   "id": "2ebb680d",
   "metadata": {},
   "source": [
    "<center><h1><u> Headings </u></h1></center>"
   ]
  },
  {
   "cell_type": "markdown",
   "id": "2fc383ae",
   "metadata": {},
   "source": [
    "## Code:"
   ]
  },
  {
   "cell_type": "raw",
   "id": "28a83778",
   "metadata": {},
   "source": [
    "# Heading level 1\n",
    "## Heading level 2\n",
    "### Heading level 3\n",
    "#### Heading level 4\n",
    "##### Heading level 5\n",
    "###### Heading level 6"
   ]
  },
  {
   "cell_type": "markdown",
   "id": "9d13e386",
   "metadata": {},
   "source": [
    "## Result:"
   ]
  },
  {
   "cell_type": "markdown",
   "id": "03ec0a7d",
   "metadata": {},
   "source": [
    "# Heading level 1\n",
    "## Heading level 2\n",
    "### Heading level 3\n",
    "#### Heading level 4\n",
    "##### Heading level 5\n",
    "###### Heading level 6"
   ]
  },
  {
   "cell_type": "markdown",
   "id": "e7beec6a",
   "metadata": {},
   "source": [
    "<hr>"
   ]
  },
  {
   "cell_type": "markdown",
   "id": "bd661ce2",
   "metadata": {},
   "source": [
    "## Otra Forma de hacer títulos\n",
    "### Código:"
   ]
  },
  {
   "cell_type": "raw",
   "id": "5de0ff51",
   "metadata": {},
   "source": [
    "<h1>Heading level 1</h1>\n",
    "<h2>Heading level 2</h2>\n",
    "<h3>Heading level 3</h3>\n",
    "<h4>Heading level 4</h4>\n",
    "<h5>Heading level 5</h5>\n",
    "<h6>Heading level 6</h6>"
   ]
  },
  {
   "cell_type": "markdown",
   "id": "21978194",
   "metadata": {},
   "source": [
    "### Resultado:"
   ]
  },
  {
   "cell_type": "markdown",
   "id": "f25a35a6",
   "metadata": {},
   "source": [
    "<h1>Heading level 1</h1>\n",
    "<h2>Heading level 2</h2>\n",
    "<h3>Heading level 3</h3>\n",
    "<h4>Heading level 4</h4>\n",
    "<h5>Heading level 5</h5>\n",
    "<h6>Heading level 6</h6>"
   ]
  },
  {
   "cell_type": "markdown",
   "id": "47170405",
   "metadata": {},
   "source": [
    "<hr>"
   ]
  },
  {
   "cell_type": "raw",
   "id": "ea2eb50b",
   "metadata": {},
   "source": [
    "Dato estas lineas las hago con el código de Markdown\n",
    "<hr>"
   ]
  },
  {
   "cell_type": "markdown",
   "id": "82f48d9e",
   "metadata": {},
   "source": [
    "<hr>"
   ]
  },
  {
   "cell_type": "markdown",
   "id": "440b4fce",
   "metadata": {},
   "source": [
    "<center><h1><u> Formato de texto </u></h1></center>"
   ]
  },
  {
   "cell_type": "markdown",
   "id": "04c2a121",
   "metadata": {},
   "source": [
    "<h3>Código:</h3>"
   ]
  },
  {
   "cell_type": "raw",
   "id": "c51524a1",
   "metadata": {},
   "source": [
    "<b> Negrita </b>"
   ]
  },
  {
   "cell_type": "raw",
   "id": "7cca4de8",
   "metadata": {},
   "source": [
    "<em> Cursiva </em>"
   ]
  },
  {
   "cell_type": "raw",
   "id": "e726a117",
   "metadata": {},
   "source": [
    "<u> Subrayado </u>"
   ]
  },
  {
   "cell_type": "raw",
   "id": "65fd29e9",
   "metadata": {},
   "source": [
    "<code> Resaltar código </code>"
   ]
  },
  {
   "cell_type": "raw",
   "id": "79f8ee5a",
   "metadata": {},
   "source": [
    "<p> Para separar parrafos</p>"
   ]
  },
  {
   "cell_type": "raw",
   "id": "c3cef4a0",
   "metadata": {},
   "source": [
    "<blockquote> Bla, bla, bla... </blockquote>"
   ]
  },
  {
   "cell_type": "markdown",
   "id": "07c5567a",
   "metadata": {},
   "source": [
    "<h3>Resultados:</h3>\n",
    "\n",
    "\n",
    "<b> Negrita </b>, <em> Cursiva </em>, <u> Subrayado </u>, <code> Resaltar código </code>"
   ]
  },
  {
   "cell_type": "markdown",
   "id": "ff000518",
   "metadata": {},
   "source": [
    "<blockquote>\n",
    "  Bla, bla, bla...\n",
    "</blockquote>"
   ]
  },
  {
   "cell_type": "markdown",
   "id": "e63b537e",
   "metadata": {},
   "source": [
    "<h5>Blockquote más complejo:</h5>\n",
    "<blockquote>\n",
    "  <p>\n",
    "    <strong>Nota.</strong> Recomendamos que las implementaciones de hojas\n",
    "    de estilo porporcionen un mecanismo para insertar signos de puntuación de citas\n",
    "    antes y después de una cita delimitada por un BLOCKQUOTE de un modo apropiado según\n",
    "    el contexto del idioma actual y el grado de anidamiento de las citas.\n",
    "  </p>\n",
    "</blockquote>"
   ]
  },
  {
   "cell_type": "markdown",
   "id": "09d2feae",
   "metadata": {},
   "source": [
    "<hr>"
   ]
  },
  {
   "cell_type": "markdown",
   "id": "12e24fa3",
   "metadata": {},
   "source": [
    "<center><h1><u> Listas </u></h1></center>"
   ]
  },
  {
   "cell_type": "markdown",
   "id": "09320d26",
   "metadata": {},
   "source": [
    "<h3> Código: </h3>"
   ]
  },
  {
   "cell_type": "raw",
   "id": "a3d8e8ca",
   "metadata": {},
   "source": [
    "<ol>\n",
    "  <li>First item</li>\n",
    "  <li>Second item</li>\n",
    "  <li>Third item</li>\n",
    "  <li>Fourth item</li>\n",
    "</ol>"
   ]
  },
  {
   "cell_type": "markdown",
   "id": "3dbfc1a7",
   "metadata": {},
   "source": [
    "<h3> Resultado: </h3>"
   ]
  },
  {
   "cell_type": "markdown",
   "id": "6b5c602b",
   "metadata": {},
   "source": [
    "<ol>\n",
    "  <li>First item</li>\n",
    "  <li>Second item</li>\n",
    "  <li>Third item</li>\n",
    "  <li>Fourth item</li>\n",
    "</ol>"
   ]
  },
  {
   "cell_type": "markdown",
   "id": "d2f93022",
   "metadata": {},
   "source": [
    "<hr>"
   ]
  },
  {
   "cell_type": "markdown",
   "id": "6c27d210",
   "metadata": {},
   "source": [
    "<h3> Código: </h3>"
   ]
  },
  {
   "cell_type": "raw",
   "id": "8cbf470d",
   "metadata": {},
   "source": [
    "<ol>\n",
    "  <li>First item</li>\n",
    "  <li>Second item</li>\n",
    "  <li>Third item\n",
    "    <ol>\n",
    "      <li>Indented item</li>\n",
    "      <li>Indented item</li>\n",
    "    </ol>\n",
    "  </li>\n",
    "  <li>Fourth item</li>\n",
    "</ol>"
   ]
  },
  {
   "cell_type": "markdown",
   "id": "9a724d06",
   "metadata": {},
   "source": [
    "<h3> Resultado: </h3>"
   ]
  },
  {
   "cell_type": "markdown",
   "id": "109b4787",
   "metadata": {},
   "source": [
    "<ol>\n",
    "  <li>First item</li>\n",
    "  <li>Second item</li>\n",
    "  <li>Third item\n",
    "    <ol>\n",
    "      <li>Indented item</li>\n",
    "      <li>Indented item</li>\n",
    "    </ol>\n",
    "  </li>\n",
    "  <li>Fourth item</li>\n",
    "</ol>"
   ]
  },
  {
   "cell_type": "markdown",
   "id": "36a0640c",
   "metadata": {},
   "source": [
    "<hr>"
   ]
  },
  {
   "cell_type": "markdown",
   "id": "5aab48f9",
   "metadata": {},
   "source": [
    "<h3> Código: </h3>"
   ]
  },
  {
   "cell_type": "raw",
   "id": "665bf045",
   "metadata": {},
   "source": [
    "<ul>\n",
    "  <li>First item</li>\n",
    "  <li>Second item</li>\n",
    "  <li>Third item</li>\n",
    "  <li>Fourth item</li>\n",
    "</ul>"
   ]
  },
  {
   "cell_type": "markdown",
   "id": "b9054b2d",
   "metadata": {},
   "source": [
    "<h3> Resultado: </h3>"
   ]
  },
  {
   "cell_type": "markdown",
   "id": "11570fcf",
   "metadata": {},
   "source": [
    "<ul>\n",
    "  <li>First item</li>\n",
    "  <li>Second item</li>\n",
    "  <li>Third item</li>\n",
    "  <li>Fourth item</li>\n",
    "</ul>"
   ]
  },
  {
   "cell_type": "markdown",
   "id": "f44db49f",
   "metadata": {},
   "source": [
    "<hr>"
   ]
  },
  {
   "cell_type": "markdown",
   "id": "db6e4966",
   "metadata": {},
   "source": [
    "<h3> Código: </h3>"
   ]
  },
  {
   "cell_type": "raw",
   "id": "497b062f",
   "metadata": {},
   "source": [
    "<ul>\n",
    "  <li>First item</li>\n",
    "  <li>Second item</li>\n",
    "  <li>Third item\n",
    "    <ul>\n",
    "      <li>Indented item</li>\n",
    "      <li>Indented item</li>\n",
    "    </ul>\n",
    "  </li>\n",
    "  <li>Fourth item</li>\n",
    "</ul>"
   ]
  },
  {
   "cell_type": "markdown",
   "id": "0a459f6c",
   "metadata": {},
   "source": [
    "<h3> Resultado: </h3>"
   ]
  },
  {
   "cell_type": "markdown",
   "id": "27263961",
   "metadata": {},
   "source": [
    "<ul>\n",
    "  <li>First item</li>\n",
    "  <li>Second item</li>\n",
    "  <li>Third item\n",
    "    <ul>\n",
    "      <li>Indented item</li>\n",
    "      <li>Indented item</li>\n",
    "    </ul>\n",
    "  </li>\n",
    "  <li>Fourth item</li>\n",
    "</ul>"
   ]
  },
  {
   "cell_type": "markdown",
   "id": "6e695ad7",
   "metadata": {},
   "source": [
    "<hr>"
   ]
  },
  {
   "cell_type": "markdown",
   "id": "442a0999",
   "metadata": {},
   "source": [
    "<center><h1><u> Tablas </u></h1></center>"
   ]
  },
  {
   "cell_type": "markdown",
   "id": "cf437437",
   "metadata": {},
   "source": [
    "<h3> Código: </h3>"
   ]
  },
  {
   "cell_type": "raw",
   "id": "a072a9ab",
   "metadata": {},
   "source": [
    "| Excel | Pandas |\n",
    "|-------|--------|\n",
    "|Worksheet|Dataframe|\n",
    "|Column|Series|\n",
    "|Row heading|Index|\n",
    "|Row|Row|\n",
    "|Empty Cell|NaN|"
   ]
  },
  {
   "cell_type": "markdown",
   "id": "567696ff",
   "metadata": {},
   "source": [
    "<h3> Resultado: </h3>"
   ]
  },
  {
   "cell_type": "markdown",
   "id": "a41d71bb",
   "metadata": {},
   "source": [
    "| Excel | Pandas |\n",
    "|-------|--------|\n",
    "|Worksheet|Dataframe|\n",
    "|Column|Series|\n",
    "|Row heading|Index|\n",
    "|Row|Row|\n",
    "|Empty Cell|NaN|"
   ]
  },
  {
   "cell_type": "markdown",
   "id": "e7a0fd29",
   "metadata": {},
   "source": [
    "<h3> Código, alinear izq, der: </h3>"
   ]
  },
  {
   "cell_type": "raw",
   "id": "12007dd0",
   "metadata": {},
   "source": [
    "| Excel | Pandas | etc|\n",
    ":- | -: | :-:|\n",
    "|Worksheet|Dataframe|etc|\n",
    "|Column|Series|etc|\n",
    "|Row heading|Index|etc|\n",
    "|Row|Row|etc|\n",
    "|Empty Cell|NaN|etc|                "
   ]
  },
  {
   "cell_type": "markdown",
   "id": "13cccf38",
   "metadata": {},
   "source": [
    "<h3> Resultado: </h3>"
   ]
  },
  {
   "cell_type": "markdown",
   "id": "dcc23de6",
   "metadata": {},
   "source": [
    "| Excel | Pandas | etc|\n",
    ":- | -: | :-:|\n",
    "|Worksheet|Dataframe|etc|\n",
    "|Column|Series|etc|\n",
    "|Row heading|Index|etc|\n",
    "|Row|Row|etc|\n",
    "|Empty Cell|NaN|etc|   "
   ]
  },
  {
   "cell_type": "code",
   "execution_count": null,
   "id": "e8625695",
   "metadata": {},
   "outputs": [],
   "source": []
  }
 ],
 "metadata": {
  "kernelspec": {
   "display_name": "Python 3 (ipykernel)",
   "language": "python",
   "name": "python3"
  },
  "language_info": {
   "codemirror_mode": {
    "name": "ipython",
    "version": 3
   },
   "file_extension": ".py",
   "mimetype": "text/x-python",
   "name": "python",
   "nbconvert_exporter": "python",
   "pygments_lexer": "ipython3",
   "version": "3.9.7"
  }
 },
 "nbformat": 4,
 "nbformat_minor": 5
}
