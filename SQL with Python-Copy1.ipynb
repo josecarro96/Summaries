{
 "cells": [
  {
   "cell_type": "markdown",
   "id": "1063c143",
   "metadata": {},
   "source": [
    "Based on: \n",
    "- https://www.kaggle.com/code/ganu1899/sql-with-python\n",
    "- I added information I got from the course un Udemy, SQL - MySQL for Data Analytics and Business Intelligence\n",
    "    - certificate: <a href=\"URL\">ude.my/UC-8c73755c-fd16-4734-aae6-40e8b72016be</a>"
   ]
  },
  {
   "cell_type": "markdown",
   "id": "30d9cf63",
   "metadata": {},
   "source": [
    "<center><h1><u> MySQL with Python </u></h1></center>"
   ]
  },
  {
   "cell_type": "code",
   "execution_count": 1,
   "id": "a3f52659",
   "metadata": {},
   "outputs": [],
   "source": [
    "import mysql.connector"
   ]
  },
  {
   "cell_type": "markdown",
   "id": "6292688a",
   "metadata": {},
   "source": [
    "### To connect to a local server MySQL we need:\n",
    "\n",
    "<code>mydb = mysql.connector.connect( \n",
    "    host=\"localhost\",  \n",
    "    user=\"yourusername\",  \n",
    "    password=\"yourpassword\")</code>\n",
    "\n",
    "<code>print(mydb)</code>"
   ]
  },
  {
   "cell_type": "code",
   "execution_count": 2,
   "id": "a5f22386",
   "metadata": {},
   "outputs": [
    {
     "name": "stdout",
     "output_type": "stream",
     "text": [
      "<mysql.connector.connection.MySQLConnection object at 0x7fbc3815b790>\n"
     ]
    }
   ],
   "source": [
    "mydb = mysql.connector.connect(\n",
    "  host=\"localhost\",\n",
    "  user=\"root\",\n",
    "  password=\"*************\"\n",
    ")\n",
    "\n",
    "print(mydb)"
   ]
  },
  {
   "cell_type": "code",
   "execution_count": 3,
   "id": "e55103ad",
   "metadata": {},
   "outputs": [
    {
     "name": "stdout",
     "output_type": "stream",
     "text": [
      "('employees',)\n",
      "('employees_mod',)\n",
      "('information_schema',)\n",
      "('Learn',)\n",
      "('mysql',)\n",
      "('performance_schema',)\n",
      "('Sales',)\n",
      "('sys',)\n"
     ]
    }
   ],
   "source": [
    "### Retourn a list of my databases\n",
    "mycursor = mydb.cursor()\n",
    "\n",
    "mycursor.execute(\"SHOW DATABASES\")\n",
    "for x in mycursor:\n",
    "    print(x)"
   ]
  },
  {
   "cell_type": "markdown",
   "id": "774c7884",
   "metadata": {},
   "source": [
    "### To connect to a local database wich is on the local server MySQL we need:\n",
    "\n",
    "<code>mydb = mysql.connector.connect( \n",
    "    host=\"localhost\",  \n",
    "    user=\"yourusername\",  \n",
    "    password=\"yourpassword\"\n",
    "    database=\"database_name\")</code>\n",
    "\n",
    "<code>print(mydb)</code>\n",
    "<hr>\n",
    "<blockquote>We only include database=\"mydatabase\" in the code</blockquote>"
   ]
  },
  {
   "cell_type": "markdown",
   "id": "a0f8b75d",
   "metadata": {},
   "source": [
    "### Basics os MySQL connector\n",
    "To close de connection we use: <code>connection_name.close()</code>"
   ]
  },
  {
   "cell_type": "markdown",
   "id": "d4f287d4",
   "metadata": {},
   "source": [
    "### To create a database once we established a connection, we use the following code"
   ]
  },
  {
   "cell_type": "markdown",
   "id": "82af0ee6",
   "metadata": {},
   "source": [
    "<code>mycursor = mydb.cursor() </code>\n",
    "\n",
    "<code>mycursor.execute(\"CREATE DATABASE mydatabase\")</code>"
   ]
  },
  {
   "cell_type": "code",
   "execution_count": 4,
   "id": "ccd1c0b4",
   "metadata": {},
   "outputs": [],
   "source": [
    "#First step we need start from the begining, and DROP the Database if exists\n",
    "mycursor.execute(\"DROP DATABASE IF EXISTS Learn\")"
   ]
  },
  {
   "cell_type": "code",
   "execution_count": 5,
   "id": "9cc54d9e",
   "metadata": {},
   "outputs": [],
   "source": [
    "mycursor.execute(\"CREATE DATABASE Learn\")"
   ]
  },
  {
   "cell_type": "markdown",
   "id": "77909775",
   "metadata": {},
   "source": [
    "## Creating a Table\n",
    "\n",
    "- To create a table in MySQL, use the \"CREATE TABLE\" statement.\n",
    "\n",
    "- Make sure you define the name of the database when you create the connection"
   ]
  },
  {
   "cell_type": "raw",
   "id": "ec7f2c39",
   "metadata": {},
   "source": [
    "import mysql.connector\n",
    "\n",
    "mydb = mysql.connector.connect(\n",
    "  host=\"localhost\",\n",
    "  user=\"yourusername\",\n",
    "  password=\"yourpassword\",\n",
    "  database=\"mydatabase\"\n",
    ")\n",
    "\n",
    "mycursor = mydb.cursor()"
   ]
  },
  {
   "cell_type": "code",
   "execution_count": 6,
   "id": "cbb8fd5c",
   "metadata": {},
   "outputs": [],
   "source": [
    "mycursor.execute(\"USE Learn\")\n",
    "mycursor.execute(\"CREATE TABLE customers (name VARCHAR(255), address VARCHAR(255))\")"
   ]
  },
  {
   "cell_type": "code",
   "execution_count": 7,
   "id": "b7f632c2",
   "metadata": {},
   "outputs": [],
   "source": [
    "mycursor.execute(\"DROP TABLE IF EXISTS customers\")"
   ]
  },
  {
   "cell_type": "markdown",
   "id": "f90f4d5e",
   "metadata": {},
   "source": [
    "## Primary Key\n",
    "- When creating a table, you should also create a column with a unique key for each record.\n",
    "- This can be done by defining a PRIMARY KEY.\n",
    "- We use the statement \"INT AUTO_INCREMENT PRIMARY KEY\" which will insert a unique number for each record. Starting at 1, and increased by one for each record."
   ]
  },
  {
   "cell_type": "markdown",
   "id": "6622da32",
   "metadata": {},
   "source": [
    "#### Create primary key from the begining:"
   ]
  },
  {
   "cell_type": "code",
   "execution_count": 8,
   "id": "22f0de8d",
   "metadata": {},
   "outputs": [],
   "source": [
    "mycursor.execute(\"CREATE TABLE customers (id INT AUTO_INCREMENT PRIMARY KEY, name VARCHAR(255), address VARCHAR(255))\")"
   ]
  },
  {
   "cell_type": "markdown",
   "id": "79b8025f",
   "metadata": {},
   "source": [
    "Reset:"
   ]
  },
  {
   "cell_type": "code",
   "execution_count": 9,
   "id": "8e4cddb7",
   "metadata": {},
   "outputs": [],
   "source": [
    "mycursor.execute(\"DROP TABLE IF EXISTS customers\")"
   ]
  },
  {
   "cell_type": "code",
   "execution_count": 10,
   "id": "c49a0adc",
   "metadata": {},
   "outputs": [],
   "source": [
    "mycursor.execute(\"CREATE TABLE customers (name VARCHAR(255), address VARCHAR(255))\")"
   ]
  },
  {
   "cell_type": "markdown",
   "id": "c9e0fa51",
   "metadata": {},
   "source": [
    "#### If the table already exists, use the ALTER TABLE keyword:"
   ]
  },
  {
   "cell_type": "code",
   "execution_count": 11,
   "id": "23f94e3c",
   "metadata": {},
   "outputs": [],
   "source": [
    "mycursor.execute(\"ALTER TABLE customers ADD COLUMN id INT AUTO_INCREMENT PRIMARY KEY\")"
   ]
  },
  {
   "cell_type": "markdown",
   "id": "40cb6ec8",
   "metadata": {},
   "source": [
    "## Insert Into Table\n",
    "- To fill a table in MySQL, use the \"INSERT INTO\" statement."
   ]
  },
  {
   "cell_type": "code",
   "execution_count": 12,
   "id": "8962d054",
   "metadata": {},
   "outputs": [
    {
     "name": "stdout",
     "output_type": "stream",
     "text": [
      "1 record inserted.\n"
     ]
    }
   ],
   "source": [
    "sql = \"INSERT INTO customers (name, address) VALUES (%s, %s)\"\n",
    "val = (\"John\", \"Highway 21\")\n",
    "mycursor.execute(sql, val)\n",
    "\n",
    "mydb.commit()\n",
    "\n",
    "print(mycursor.rowcount, \"record inserted.\")"
   ]
  },
  {
   "cell_type": "markdown",
   "id": "8ed247ff",
   "metadata": {},
   "source": [
    "Note: Notice the statement: mydb.commit(). It is required to make the changes, otherwise no changes are made to the table."
   ]
  },
  {
   "cell_type": "markdown",
   "id": "bf06bb46",
   "metadata": {},
   "source": [
    "## Insert Multiple Rows\n",
    "- To insert multiple rows into a table, use the executemany() method.\n",
    "- The second parameter of the executemany() method is a list of tuples, containing the data you want to insert:"
   ]
  },
  {
   "cell_type": "code",
   "execution_count": 13,
   "id": "5e0360aa",
   "metadata": {},
   "outputs": [
    {
     "name": "stdout",
     "output_type": "stream",
     "text": [
      "13 was inserted.\n"
     ]
    }
   ],
   "source": [
    "#import mysql.connector\n",
    "\n",
    "#mydb = mysql.connector.connect(\n",
    "#  host=\"localhost\",\n",
    "#  user=\"yourusername\",\n",
    "#  password=\"yourpassword\",\n",
    "#  database=\"mydatabase\"\n",
    "#)\n",
    "\n",
    "#mycursor = mydb.cursor()\n",
    "\n",
    "sql = \"INSERT INTO customers (name, address) VALUES (%s, %s)\"\n",
    "val = [\n",
    "  ('Peter', 'Lowstreet 4'),\n",
    "  ('Amy', 'Apple st 652'),\n",
    "  ('Hannah', 'Mountain 21'),\n",
    "  ('Michael', 'Valley 345'),\n",
    "  ('Sandy', 'Ocean blvd 2'),\n",
    "  ('Betty', 'Green Grass 1'),\n",
    "  ('Richard', 'Sky st 331'),\n",
    "  ('Susan', 'One way 98'),\n",
    "  ('Vicky', 'Yellow Garden 2'),\n",
    "  ('Ben', 'Park Lane 38'),\n",
    "  ('William', 'Central st 954'),\n",
    "  ('Chuck', 'Main Road 989'),\n",
    "  ('Viola', 'Sideway 1633')\n",
    "]\n",
    "\n",
    "mycursor.executemany(sql, val)\n",
    "\n",
    "mydb.commit()\n",
    "\n",
    "print(mycursor.rowcount, \"was inserted.\")"
   ]
  },
  {
   "cell_type": "markdown",
   "id": "209ca049",
   "metadata": {},
   "source": [
    "### Get Inserted ID\n",
    "\n",
    "- You can get the id of the row you just inserted by asking the cursor object.\n",
    "\n",
    "- Note: If you insert more than one row, the id of the last inserted row is returned."
   ]
  },
  {
   "cell_type": "code",
   "execution_count": 14,
   "id": "ab925903",
   "metadata": {},
   "outputs": [
    {
     "name": "stdout",
     "output_type": "stream",
     "text": [
      "1 record inserted, ID: 15\n"
     ]
    }
   ],
   "source": [
    "#import mysql.connector\n",
    "\n",
    "#mydb = mysql.connector.connect(\n",
    "#  host=\"localhost\",\n",
    "#  user=\"yourusername\",\n",
    "#  password=\"yourpassword\",\n",
    "#  database=\"mydatabase\"\n",
    "#)\n",
    "\n",
    "#mycursor = mydb.cursor()\n",
    "\n",
    "sql = \"INSERT INTO customers (name, address) VALUES (%s, %s)\"\n",
    "val = (\"Michelle\", \"Blue Village\")\n",
    "mycursor.execute(sql, val)\n",
    "\n",
    "mydb.commit()\n",
    "\n",
    "print(\"1 record inserted, ID:\", mycursor.lastrowid)"
   ]
  },
  {
   "cell_type": "markdown",
   "id": "4f1234cd",
   "metadata": {},
   "source": [
    "Select From a Table\n",
    "- To select from a table in MySQL, use the \"SELECT\" statement:"
   ]
  },
  {
   "cell_type": "code",
   "execution_count": 15,
   "id": "eeaf4935",
   "metadata": {},
   "outputs": [
    {
     "name": "stdout",
     "output_type": "stream",
     "text": [
      "('John', 'Highway 21', 1)\n",
      "('Peter', 'Lowstreet 4', 2)\n",
      "('Amy', 'Apple st 652', 3)\n",
      "('Hannah', 'Mountain 21', 4)\n",
      "('Michael', 'Valley 345', 5)\n",
      "('Sandy', 'Ocean blvd 2', 6)\n",
      "('Betty', 'Green Grass 1', 7)\n",
      "('Richard', 'Sky st 331', 8)\n",
      "('Susan', 'One way 98', 9)\n",
      "('Vicky', 'Yellow Garden 2', 10)\n",
      "('Ben', 'Park Lane 38', 11)\n",
      "('William', 'Central st 954', 12)\n",
      "('Chuck', 'Main Road 989', 13)\n",
      "('Viola', 'Sideway 1633', 14)\n",
      "('Michelle', 'Blue Village', 15)\n"
     ]
    }
   ],
   "source": [
    "# Select all records from the \"customers\" table, and display the result:\n",
    "\n",
    "#import mysql.connector\n",
    "\n",
    "#mydb = mysql.connector.connect(\n",
    "#  host=\"localhost\",\n",
    "#  user=\"yourusername\",\n",
    "#  password=\"yourpassword\",\n",
    "#  database=\"mydatabase\"\n",
    "#)\n",
    "\n",
    "mycursor = mydb.cursor()\n",
    "\n",
    "mycursor.execute(\"SELECT * FROM customers\")\n",
    "\n",
    "myresult = mycursor.fetchall()\n",
    "\n",
    "for x in myresult:\n",
    "    print(x)"
   ]
  },
  {
   "cell_type": "markdown",
   "id": "10f4e507",
   "metadata": {},
   "source": [
    "<blockquote> <strong>Note:</strong> We use the fetchall() method, which fetches all rows from the last executed statement.</blockquote>"
   ]
  },
  {
   "cell_type": "markdown",
   "id": "54ce4288",
   "metadata": {},
   "source": [
    "### Selecting Columns\n",
    "- To select only some of the columns in a table, use the \"SELECT\" statement followed by the column name(s):"
   ]
  },
  {
   "cell_type": "code",
   "execution_count": null,
   "id": "8720934d",
   "metadata": {},
   "outputs": [],
   "source": [
    "# Select only the name and address columns:\n",
    "\n",
    "#import mysql.connector\n",
    "\n",
    "#mydb = mysql.connector.connect(\n",
    "#  host=\"localhost\",\n",
    "#  user=\"yourusername\",\n",
    "#  password=\"yourpassword\",\n",
    "#  database=\"mydatabase\"\n",
    "#)\n",
    "\n",
    "mycursor = mydb.cursor()\n",
    "\n",
    "mycursor.execute(\"SELECT name, address FROM customers\")\n",
    "\n",
    "myresult = mycursor.fetchall()\n",
    "\n",
    "for x in myresult:\n",
    "    print(x)"
   ]
  },
  {
   "cell_type": "markdown",
   "id": "749a3a07",
   "metadata": {},
   "source": [
    "### Using the fetchone() Method\n",
    "- If you are only interested in one row, you can use the fetchone() method.\n",
    "\n",
    "- The fetchone() method will return the first row of the result:"
   ]
  },
  {
   "cell_type": "code",
   "execution_count": null,
   "id": "5b18b594",
   "metadata": {},
   "outputs": [],
   "source": [
    "#import mysql.connector\n",
    "\n",
    "mydb = mysql.connector.connect(\n",
    "  host=\"localhost\",\n",
    "  user=\"root\",\n",
    "  password=\"V1O8649jose2022totin.191119996\",\n",
    "  database=\"Learn\"\n",
    ")\n",
    "\n",
    "mycursor = mydb.cursor()\n",
    "\n",
    "mycursor.execute(\"SELECT * FROM customers\")\n",
    "\n",
    "myresult = mycursor.fetchone()\n",
    "\n",
    "print(myresult)"
   ]
  },
  {
   "cell_type": "markdown",
   "id": "df30ebf9",
   "metadata": {},
   "source": [
    "## Select With a Filter"
   ]
  },
  {
   "cell_type": "markdown",
   "id": "1c57bee5",
   "metadata": {},
   "source": [
    "### WHERE\n",
    "- When selecting records from a table, you can filter the selection by using the \"WHERE\" statement:"
   ]
  },
  {
   "cell_type": "code",
   "execution_count": null,
   "id": "3f0de2fa",
   "metadata": {},
   "outputs": [],
   "source": [
    "#Select record(s) where the address is \"Park Lane 38\": result:\n",
    "\n",
    "import mysql.connector\n",
    "\n",
    "#mydb = mysql.connector.connect(\n",
    "#  host=\"localhost\",\n",
    "#  user=\"root\",\n",
    "#  password=\"V1O8649jose2022totin.191119996\",\n",
    "#  database=\"Learn\"\n",
    "#)\n",
    "\n",
    "mycursor = mydb.cursor(buffered=True)\n",
    "\n",
    "sql = 'SELECT * FROM customers WHERE address =\"Park Lane 38\"'\n",
    "\n",
    "mycursor.execute(\"USE Learn\")\n",
    "\n",
    "mycursor.execute(sql)\n",
    "\n",
    "myresult = mycursor.fetchall()\n",
    "\n",
    "\n",
    "for x in myresult:\n",
    "    print(x)"
   ]
  },
  {
   "cell_type": "markdown",
   "id": "41d91af4",
   "metadata": {},
   "source": [
    "### Wildcard Characters\n",
    "- You can also select the records that starts, includes, or ends with a given letter or phrase.\n",
    "- Use the % to represent wildcard characters"
   ]
  },
  {
   "cell_type": "code",
   "execution_count": null,
   "id": "9f5e88a4",
   "metadata": {},
   "outputs": [],
   "source": [
    "# Select records where the address contains the word \"way\":\n",
    "\n",
    "#import mysql.connector\n",
    "\n",
    "#mydb = mysql.connector.connect(\n",
    "#  host=\"localhost\",\n",
    "#  user=\"yourusername\",\n",
    "#  password=\"yourpassword\",\n",
    "#  database=\"mydatabase\"\n",
    "#)\n",
    "\n",
    "#mycursor = mydb.cursor()\n",
    "\n",
    "mycursor.execute('USE Learn')\n",
    "sql = \"SELECT * FROM customers WHERE address LIKE '%way%'\"\n",
    "\n",
    "mycursor.execute(sql)\n",
    "\n",
    "myresult = mycursor.fetchall()\n",
    "\n",
    "for x in myresult:\n",
    "    print(x)"
   ]
  },
  {
   "cell_type": "markdown",
   "id": "126e639c",
   "metadata": {},
   "source": [
    "### Prevent SQL Injection\n",
    "- When query values are provided by the user, you should escape the values.\n",
    "    - This is to prevent SQL injections, which is a common web hacking technique to destroy or misuse your database.\n",
    "- The mysql.connector module has methods to escape query values:"
   ]
  },
  {
   "cell_type": "code",
   "execution_count": null,
   "id": "273ac291",
   "metadata": {},
   "outputs": [],
   "source": [
    "# Escape query values by using the placholder %s method:\n",
    "\n",
    "import mysql.connector\n",
    "\n",
    "#mydb = mysql.connector.connect(\n",
    "#  host=\"localhost\",\n",
    "#  user=\"yourusername\",\n",
    "#  password=\"yourpassword\",\n",
    "#  database=\"mydatabase\"\n",
    "#)\n",
    "\n",
    "mycursor = mydb.cursor()\n",
    "\n",
    "sql = \"SELECT * FROM customers WHERE address = %s\"\n",
    "adr = (\"Yellow Garden 2\", )\n",
    "\n",
    "mycursor.execute(sql, adr)\n",
    "\n",
    "myresult = mycursor.fetchall()\n",
    "\n",
    "for x in myresult:\n",
    "    print(x)"
   ]
  },
  {
   "cell_type": "markdown",
   "id": "3bbf093e",
   "metadata": {},
   "source": [
    "## Order By"
   ]
  },
  {
   "cell_type": "markdown",
   "id": "56a36d86",
   "metadata": {},
   "source": [
    "### Sort the Result\n",
    "- Use the ORDER BY statement to sort the result in ascending or descending order.\n",
    "\n",
    "- The ORDER BY keyword sorts the result ascending by default. To sort the result in descending order, use the DESC keyword."
   ]
  },
  {
   "cell_type": "code",
   "execution_count": null,
   "id": "88ed6ea0",
   "metadata": {},
   "outputs": [],
   "source": [
    "# Sort the result alphabetically by name: result:\n",
    "import mysql.connector\n",
    "\n",
    "#mydb = mysql.connector.connect(\n",
    "#  host=\"localhost\",\n",
    "#  user=\"yourusername\",\n",
    "#  password=\"yourpassword\",\n",
    "#  database=\"mydatabase\"\n",
    "#)\n",
    "\n",
    "mycursor = mydb.cursor()\n",
    "\n",
    "sql = \"SELECT * FROM customers ORDER BY name\"\n",
    "\n",
    "mycursor.execute(sql)\n",
    "\n",
    "myresult = mycursor.fetchall()\n",
    "\n",
    "for x in myresult:\n",
    "    print(x)"
   ]
  },
  {
   "cell_type": "markdown",
   "id": "aee6cab9",
   "metadata": {},
   "source": [
    "### ORDER BY DESC\n",
    "- Use the DESC keyword to sort the result in a descending order."
   ]
  },
  {
   "cell_type": "code",
   "execution_count": null,
   "id": "acc35b25",
   "metadata": {},
   "outputs": [],
   "source": [
    "# Sort the result reverse alphabetically by name:\n",
    "\n",
    "import mysql.connector\n",
    "\n",
    "mydb = mysql.connector.connect(\n",
    "  host=\"localhost\",\n",
    "  user=\"yourusername\",\n",
    "  password=\"yourpassword\",\n",
    "  database=\"mydatabase\"\n",
    ")\n",
    "\n",
    "mycursor = mydb.cursor()\n",
    "\n",
    "sql = \"SELECT * FROM customers ORDER BY name DESC\"\n",
    "\n",
    "mycursor.execute(sql)\n",
    "\n",
    "myresult = mycursor.fetchall()\n",
    "\n",
    "for x in myresult:\n",
    "    print(x)"
   ]
  },
  {
   "cell_type": "markdown",
   "id": "cc1225ab",
   "metadata": {},
   "source": [
    "## Delete From"
   ]
  },
  {
   "cell_type": "markdown",
   "id": "bc315e8e",
   "metadata": {},
   "source": [
    "### Delete Record\n",
    "- You can delete records from an existing table by using the \"DELETE FROM\" statement:"
   ]
  },
  {
   "cell_type": "code",
   "execution_count": null,
   "id": "033b33b5",
   "metadata": {},
   "outputs": [],
   "source": [
    "# Delete any record where the address is \"Mountain 21\":\n",
    "\n",
    "import mysql.connector\n",
    "\n",
    "mydb = mysql.connector.connect(\n",
    "  host=\"localhost\",\n",
    "  user=\"yourusername\",\n",
    "  password=\"yourpassword\",\n",
    "  database=\"mydatabase\"\n",
    ")\n",
    "\n",
    "mycursor = mydb.cursor()\n",
    "\n",
    "sql = \"DELETE FROM customers WHERE address = 'Mountain 21'\"\n",
    "\n",
    "mycursor.execute(sql)\n",
    "\n",
    "mydb.commit()\n",
    "\n",
    "print(mycursor.rowcount, \"record(s) deleted\")"
   ]
  },
  {
   "cell_type": "markdown",
   "id": "1706edb2",
   "metadata": {},
   "source": [
    "<blockquote> <strong>Note:</strong> Notice the statement: mydb.commit(). It is required to make the changes, otherwise no changes are made to the table.</blockquote>\n",
    "<blockquote> <strong>Notice the WHERE clause in the DELETE syntax:</strong> The WHERE clause specifies which record(s) that should be deleted. If you omit the WHERE clause, all records will be deleted!</blockquote>"
   ]
  },
  {
   "cell_type": "markdown",
   "id": "444e581f",
   "metadata": {},
   "source": [
    "## Prevent SQL Injection\n",
    "- It is considered a good practice to escape the values of any query, also in delete statements.\n",
    "- This is to prevent SQL injections, which is a common web hacking technique to destroy or misuse your database.\n",
    "- The mysql.connector module uses the placeholder %s to escape values in the delete statement:"
   ]
  },
  {
   "cell_type": "code",
   "execution_count": null,
   "id": "91d85ab6",
   "metadata": {},
   "outputs": [],
   "source": [
    "# Escape values by using the placeholder %s method:\n",
    "\n",
    "import mysql.connector\n",
    "\n",
    "mydb = mysql.connector.connect(\n",
    "  host=\"localhost\",\n",
    "  user=\"yourusername\",\n",
    "  password=\"yourpassword\",\n",
    "  database=\"mydatabase\"\n",
    ")\n",
    "\n",
    "mycursor = mydb.cursor()\n",
    "\n",
    "sql = \"DELETE FROM customers WHERE address = %s\"\n",
    "adr = (\"Yellow Garden 2\", )\n",
    "\n",
    "mycursor.execute(sql, adr)\n",
    "\n",
    "mydb.commit()\n",
    "\n",
    "print(mycursor.rowcount, \"record(s) deleted\")"
   ]
  },
  {
   "cell_type": "markdown",
   "id": "a2fde7e0",
   "metadata": {},
   "source": [
    "## Drop Table"
   ]
  },
  {
   "cell_type": "markdown",
   "id": "ede1f722",
   "metadata": {},
   "source": [
    "### Delete a Table\n",
    "- You can delete an existing table by using the \"DROP TABLE\" statement:"
   ]
  },
  {
   "cell_type": "code",
   "execution_count": null,
   "id": "4be46f47",
   "metadata": {},
   "outputs": [],
   "source": [
    "# Delete the table \"customers\":\n",
    "\n",
    "import mysql.connector\n",
    "\n",
    "mydb = mysql.connector.connect(\n",
    "  host=\"localhost\",\n",
    "  user=\"yourusername\",\n",
    "  password=\"yourpassword\",\n",
    "  database=\"mydatabase\"\n",
    ")\n",
    "\n",
    "mycursor = mydb.cursor()\n",
    "\n",
    "sql = \"DROP TABLE customers\"\n",
    "\n",
    "mycursor.execute(sql)"
   ]
  },
  {
   "cell_type": "markdown",
   "id": "7a7b8b3f",
   "metadata": {},
   "source": [
    "### Drop Only if Exist\n",
    "- If the the table you want to delete is already deleted, or for any other reason does not exist, you can use the IF EXISTS keyword to avoid getting an error."
   ]
  },
  {
   "cell_type": "code",
   "execution_count": null,
   "id": "cb06c2e9",
   "metadata": {},
   "outputs": [],
   "source": [
    "# Delete the table \"customers\" if it exists:\n",
    "\n",
    "import mysql.connector\n",
    "\n",
    "mydb = mysql.connector.connect(\n",
    "  host=\"localhost\",\n",
    "  user=\"yourusername\",\n",
    "  password=\"yourpassword\",\n",
    "  database=\"mydatabase\"\n",
    ")\n",
    "\n",
    "mycursor = mydb.cursor()\n",
    "\n",
    "sql = \"DROP TABLE IF EXISTS customers\"\n",
    "\n",
    "mycursor.execute(sql)"
   ]
  },
  {
   "cell_type": "markdown",
   "id": "5c83a545",
   "metadata": {},
   "source": [
    "## Update Table"
   ]
  },
  {
   "cell_type": "markdown",
   "id": "3350ae4c",
   "metadata": {},
   "source": [
    "### Update Table\n",
    "- You can update existing records in a table by using the \"UPDATE\" statement:"
   ]
  },
  {
   "cell_type": "code",
   "execution_count": null,
   "id": "52a47f40",
   "metadata": {},
   "outputs": [],
   "source": [
    "# Overwrite the address column from \"Valley 345\" to \"Canyoun 123\":\n",
    "\n",
    "import mysql.connector\n",
    "\n",
    "mydb = mysql.connector.connect(\n",
    "  host=\"localhost\",\n",
    "  user=\"yourusername\",\n",
    "  password=\"yourpassword\",\n",
    "  database=\"mydatabase\"\n",
    ")\n",
    "\n",
    "mycursor = mydb.cursor()\n",
    "\n",
    "sql = \"UPDATE customers SET address = 'Canyon 123' WHERE address = 'Valley 345'\"\n",
    "\n",
    "mycursor.execute(sql)\n",
    "\n",
    "mydb.commit()\n",
    "\n",
    "print(mycursor.rowcount, \"record(s) affected\")"
   ]
  },
  {
   "cell_type": "markdown",
   "id": "6c953605",
   "metadata": {},
   "source": [
    "<blockquote><b>Note:</b> Notice the statement: mydb.commit(). It is required to make the changes, otherwise no changes are made to the table.</blockquote>\n",
    "\n",
    "<blockquote>The WHERE clause specifies which record or records that should be updated. If you omit the WHERE clause, all records will be updated!</blockquote>"
   ]
  },
  {
   "cell_type": "markdown",
   "id": "78098243",
   "metadata": {},
   "source": [
    "## Prevent SQL Injection\n",
    "- It is considered a good practice to escape the values of any query, also in update statements.\n",
    "- This is to prevent SQL injections, which is a common web hacking technique to destroy or misuse your database.\n",
    "- The mysql.connector module uses the placeholder %s to escape values in the delete statement:"
   ]
  },
  {
   "cell_type": "code",
   "execution_count": null,
   "id": "e39452b2",
   "metadata": {},
   "outputs": [],
   "source": [
    "# Escape values by using the placholder %s method:\n",
    "\n",
    "import mysql.connector\n",
    "\n",
    "mydb = mysql.connector.connect(\n",
    "  host=\"localhost\",\n",
    "  user=\"yourusername\",\n",
    "  password=\"yourpassword\",\n",
    "  database=\"mydatabase\"\n",
    ")\n",
    "\n",
    "mycursor = mydb.cursor()\n",
    "\n",
    "sql = \"UPDATE customers SET address = %s WHERE address = %s\"\n",
    "val = (\"Valley 345\", \"Canyon 123\")\n",
    "\n",
    "mycursor.execute(sql, val)\n",
    "\n",
    "mydb.commit()\n",
    "\n",
    "print(mycursor.rowcount, \"record(s) affected\")"
   ]
  },
  {
   "cell_type": "markdown",
   "id": "c32112da",
   "metadata": {},
   "source": [
    "## Limit"
   ]
  },
  {
   "cell_type": "markdown",
   "id": "3fbd5099",
   "metadata": {},
   "source": [
    "## Limit the Result\n",
    "- You can limit the number of records returned from the query, by using the \"LIMIT\" statement:"
   ]
  },
  {
   "cell_type": "code",
   "execution_count": null,
   "id": "7203bba8",
   "metadata": {},
   "outputs": [],
   "source": [
    "# Select the 5 first records in the \"customers\" table:\n",
    "\n",
    "import mysql.connector\n",
    "\n",
    "mydb = mysql.connector.connect(\n",
    "  host=\"localhost\",\n",
    "  user=\"yourusername\",\n",
    "  password=\"yourpassword\",\n",
    "  database=\"mydatabase\"\n",
    ")\n",
    "\n",
    "mycursor = mydb.cursor()\n",
    "\n",
    "mycursor.execute(\"SELECT * FROM customers LIMIT 5\")\n",
    "\n",
    "myresult = mycursor.fetchall()\n",
    "\n",
    "for x in myresult:\n",
    "    print(x)"
   ]
  },
  {
   "cell_type": "markdown",
   "id": "04bf9537",
   "metadata": {},
   "source": [
    "### Start From Another Position\n",
    "- If you want to return five records, starting from the third record, you can use the \"OFFSET\" keyword:"
   ]
  },
  {
   "cell_type": "code",
   "execution_count": null,
   "id": "01168fdc",
   "metadata": {},
   "outputs": [],
   "source": [
    "# Start from position 3, and return 5 records:\n",
    "\n",
    "import mysql.connector\n",
    "\n",
    "mydb = mysql.connector.connect(\n",
    "  host=\"localhost\",\n",
    "  user=\"yourusername\",\n",
    "  password=\"yourpassword\",\n",
    "  database=\"mydatabase\"\n",
    ")\n",
    "\n",
    "mycursor = mydb.cursor()\n",
    "\n",
    "mycursor.execute(\"SELECT * FROM customers LIMIT 5 OFFSET 2\")\n",
    "\n",
    "myresult = mycursor.fetchall()\n",
    "\n",
    "for x in myresult:\n",
    "    print(x)"
   ]
  },
  {
   "cell_type": "markdown",
   "id": "40c3dffa",
   "metadata": {},
   "source": [
    "<hr>"
   ]
  },
  {
   "cell_type": "markdown",
   "id": "21d55f6a",
   "metadata": {},
   "source": [
    "## Join"
   ]
  },
  {
   "cell_type": "markdown",
   "id": "ffcda6a6",
   "metadata": {},
   "source": [
    "## Join Two or More Tables\n",
    "- You can combine rows from two or more tables, based on a related column between them, by using a JOIN statement.\n",
    "- Consider you have a \"users\" table and a \"products\" table.\n",
    "- These two tables can be combined by using users' fav field and products' id field."
   ]
  },
  {
   "cell_type": "code",
   "execution_count": null,
   "id": "897b5f4e",
   "metadata": {},
   "outputs": [],
   "source": [
    "# Join users and products to see the name of the users favorite product:\n",
    "\n",
    "import mysql.connector\n",
    "\n",
    "mydb = mysql.connector.connect(\n",
    "  host=\"localhost\",\n",
    "  user=\"yourusername\",\n",
    "  password=\"yourpassword\",\n",
    "  database=\"mydatabase\"\n",
    ")\n",
    "\n",
    "mycursor = mydb.cursor()\n",
    "\n",
    "sql = \"SELECT \\\n",
    "  users.name AS user, \\\n",
    "  products.name AS favorite \\\n",
    "  FROM users \\\n",
    "  INNER JOIN products ON users.fav = products.id\"\n",
    "\n",
    "mycursor.execute(sql)\n",
    "\n",
    "myresult = mycursor.fetchall()\n",
    "\n",
    "for x in myresult:\n",
    "    print(x)"
   ]
  },
  {
   "cell_type": "markdown",
   "id": "7f6f3af7",
   "metadata": {},
   "source": [
    "<blockquote><b>Note:</b> You can use JOIN instead of INNER JOIN. They will both give you the same result.</blockquote>"
   ]
  },
  {
   "cell_type": "markdown",
   "id": "06950fd6",
   "metadata": {},
   "source": [
    "### LEFT JOIN\n",
    "- In the example above, Hannah, and Michael were excluded from the result, that is because INNER JOIN only shows the records where there is a match.\n",
    "- If you want to show all users, even if they do not have a favorite product, use the LEFT JOIN statement:"
   ]
  },
  {
   "cell_type": "code",
   "execution_count": null,
   "id": "4376df12",
   "metadata": {},
   "outputs": [],
   "source": [
    "# Select all users and their favorite product:\n",
    "\n",
    "sql = \"SELECT \\\n",
    "  users.name AS user, \\\n",
    "  products.name AS favorite \\\n",
    "  FROM users \\\n",
    "  LEFT JOIN products ON users.fav = products.id\""
   ]
  },
  {
   "cell_type": "markdown",
   "id": "2546e95a",
   "metadata": {},
   "source": [
    "### RIGHT JOIN\n",
    "- If you want to return all products, and the users who have them as their favorite, even if no user have them as their favorite, use the RIGHT JOIN statement:"
   ]
  },
  {
   "cell_type": "code",
   "execution_count": null,
   "id": "663bed1a",
   "metadata": {},
   "outputs": [],
   "source": [
    "# Select all products, and the user(s) who have them as their favorite:\n",
    "\n",
    "sql = \"SELECT \\\n",
    "  users.name AS user, \\\n",
    "  products.name AS favorite \\\n",
    "  FROM users \\\n",
    "  RIGHT JOIN products ON users.fav = products.id\""
   ]
  }
 ],
 "metadata": {
  "kernelspec": {
   "display_name": "Python 3 (ipykernel)",
   "language": "python",
   "name": "python3"
  },
  "language_info": {
   "codemirror_mode": {
    "name": "ipython",
    "version": 3
   },
   "file_extension": ".py",
   "mimetype": "text/x-python",
   "name": "python",
   "nbconvert_exporter": "python",
   "pygments_lexer": "ipython3",
   "version": "3.9.7"
  }
 },
 "nbformat": 4,
 "nbformat_minor": 5
}
